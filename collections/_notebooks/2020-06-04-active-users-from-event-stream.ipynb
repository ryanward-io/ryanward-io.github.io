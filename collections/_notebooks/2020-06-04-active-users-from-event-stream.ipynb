{
 "cells": [
  {
   "cell_type": "markdown",
   "metadata": {},
   "source": [
    "### Background\n",
    "\n",
    "A key product metric looks at Daily Active Users over Monthly Active Users (DAU/MAU). It is commonly used as a proxy for user engagement and is widely used by product teams and businesses. I’ve seen a few definitions but the one I use means that DAU, MAU, etc are defined as the count of unique visitors that have visited in the past X days – ie for MAU it is a rolling 30 days.\n",
    "\n",
    "I recently found I needed to calculate this from a stream of aggregated event data. You could take a similar approach with a pure event stream, but it may be worth grouping by visitors and dates depending on the size of your data so it doesn’t take forever.\n",
    "\n",
    "Despite searching, I couldn’t find anything that quickly solved my problem so took the following approach:\n",
    "\n",
    "1. Import pandas and the event stream as a DataFrame (df1);\n",
    "2. Set up a new DataFrame (df2) with one row for each date in the date range; and\n",
    "3. Loop through df1 for each date in df2 and record a distinct count of visitors for the relevant period in df2.\n",
    "\n",
    "The data we'll use can just be generated as follows:"
   ]
  },
  {
   "cell_type": "code",
   "execution_count": 77,
   "metadata": {},
   "outputs": [],
   "source": [
    "from datetime import datetime as dt, timedelta as td\n",
    "import numpy as np\n",
    "import pandas as pd\n",
    "\n",
    "col_names = ['visitor_id', 'date', 'page_views', 'feature_clicks']\n",
    "\n",
    "visitor_ids = range(1,51)\n",
    "dates = [dt(2020, 7, 1) + td(days=x) for x in range(30)]\n",
    "\n",
    "data = []\n",
    "\n",
    "for d in dates:\n",
    "    for id in visitor_ids:\n",
    "        data.append([id, d, np.random.randint(1e2), np.random.randint(1e3)])"
   ]
  },
  {
   "cell_type": "markdown",
   "metadata": {},
   "source": [
    "### Code\n",
    "Step 1 is housekeeping. While we'll use the generated data it would more likely connecting to an API or a database."
   ]
  },
  {
   "cell_type": "code",
   "execution_count": 86,
   "metadata": {},
   "outputs": [
    {
     "data": {
      "text/html": [
       "<div>\n",
       "<style scoped>\n",
       "    .dataframe tbody tr th:only-of-type {\n",
       "        vertical-align: middle;\n",
       "    }\n",
       "\n",
       "    .dataframe tbody tr th {\n",
       "        vertical-align: top;\n",
       "    }\n",
       "\n",
       "    .dataframe thead th {\n",
       "        text-align: right;\n",
       "    }\n",
       "</style>\n",
       "<table border=\"1\" class=\"dataframe\">\n",
       "  <thead>\n",
       "    <tr style=\"text-align: right;\">\n",
       "      <th></th>\n",
       "      <th>visitor_id</th>\n",
       "      <th>date</th>\n",
       "      <th>page_views</th>\n",
       "      <th>feature_clicks</th>\n",
       "    </tr>\n",
       "  </thead>\n",
       "  <tbody>\n",
       "    <tr>\n",
       "      <th>1255</th>\n",
       "      <td>6</td>\n",
       "      <td>2020-07-26</td>\n",
       "      <td>52</td>\n",
       "      <td>562</td>\n",
       "    </tr>\n",
       "    <tr>\n",
       "      <th>1423</th>\n",
       "      <td>24</td>\n",
       "      <td>2020-07-29</td>\n",
       "      <td>21</td>\n",
       "      <td>659</td>\n",
       "    </tr>\n",
       "    <tr>\n",
       "      <th>1335</th>\n",
       "      <td>36</td>\n",
       "      <td>2020-07-27</td>\n",
       "      <td>99</td>\n",
       "      <td>919</td>\n",
       "    </tr>\n",
       "    <tr>\n",
       "      <th>273</th>\n",
       "      <td>24</td>\n",
       "      <td>2020-07-06</td>\n",
       "      <td>23</td>\n",
       "      <td>609</td>\n",
       "    </tr>\n",
       "    <tr>\n",
       "      <th>815</th>\n",
       "      <td>16</td>\n",
       "      <td>2020-07-17</td>\n",
       "      <td>24</td>\n",
       "      <td>854</td>\n",
       "    </tr>\n",
       "  </tbody>\n",
       "</table>\n",
       "</div>"
      ],
      "text/plain": [
       "      visitor_id       date  page_views  feature_clicks\n",
       "1255           6 2020-07-26          52             562\n",
       "1423          24 2020-07-29          21             659\n",
       "1335          36 2020-07-27          99             919\n",
       "273           24 2020-07-06          23             609\n",
       "815           16 2020-07-17          24             854"
      ]
     },
     "execution_count": 86,
     "metadata": {},
     "output_type": "execute_result"
    }
   ],
   "source": [
    "full_df = pd.DataFrame(data, columns=col_names)\n",
    "full_df.sample(5)"
   ]
  },
  {
   "cell_type": "markdown",
   "metadata": {},
   "source": [
    "We'll use an exponential decay function to emulate the drop-off in user activity. This takes the form of $y = ab^x$. We'll keep it simple and use $y = 1.001^{-x}$ as a mask against the index of our new dataframe."
   ]
  },
  {
   "cell_type": "code",
   "execution_count": 119,
   "metadata": {},
   "outputs": [
    {
     "data": {
      "text/html": [
       "<div>\n",
       "<style scoped>\n",
       "    .dataframe tbody tr th:only-of-type {\n",
       "        vertical-align: middle;\n",
       "    }\n",
       "\n",
       "    .dataframe tbody tr th {\n",
       "        vertical-align: top;\n",
       "    }\n",
       "\n",
       "    .dataframe thead th {\n",
       "        text-align: right;\n",
       "    }\n",
       "</style>\n",
       "<table border=\"1\" class=\"dataframe\">\n",
       "  <thead>\n",
       "    <tr style=\"text-align: right;\">\n",
       "      <th></th>\n",
       "      <th>visitor_id</th>\n",
       "      <th>date</th>\n",
       "      <th>page_views</th>\n",
       "      <th>feature_clicks</th>\n",
       "    </tr>\n",
       "  </thead>\n",
       "  <tbody>\n",
       "    <tr>\n",
       "      <th>0</th>\n",
       "      <td>1</td>\n",
       "      <td>2020-07-01</td>\n",
       "      <td>49</td>\n",
       "      <td>814</td>\n",
       "    </tr>\n",
       "    <tr>\n",
       "      <th>1</th>\n",
       "      <td>2</td>\n",
       "      <td>2020-07-01</td>\n",
       "      <td>83</td>\n",
       "      <td>857</td>\n",
       "    </tr>\n",
       "    <tr>\n",
       "      <th>2</th>\n",
       "      <td>3</td>\n",
       "      <td>2020-07-01</td>\n",
       "      <td>42</td>\n",
       "      <td>215</td>\n",
       "    </tr>\n",
       "    <tr>\n",
       "      <th>3</th>\n",
       "      <td>4</td>\n",
       "      <td>2020-07-01</td>\n",
       "      <td>21</td>\n",
       "      <td>309</td>\n",
       "    </tr>\n",
       "    <tr>\n",
       "      <th>4</th>\n",
       "      <td>5</td>\n",
       "      <td>2020-07-01</td>\n",
       "      <td>87</td>\n",
       "      <td>312</td>\n",
       "    </tr>\n",
       "    <tr>\n",
       "      <th>...</th>\n",
       "      <td>...</td>\n",
       "      <td>...</td>\n",
       "      <td>...</td>\n",
       "      <td>...</td>\n",
       "    </tr>\n",
       "    <tr>\n",
       "      <th>1493</th>\n",
       "      <td>44</td>\n",
       "      <td>2020-07-30</td>\n",
       "      <td>46</td>\n",
       "      <td>82</td>\n",
       "    </tr>\n",
       "    <tr>\n",
       "      <th>1496</th>\n",
       "      <td>47</td>\n",
       "      <td>2020-07-30</td>\n",
       "      <td>96</td>\n",
       "      <td>729</td>\n",
       "    </tr>\n",
       "    <tr>\n",
       "      <th>1497</th>\n",
       "      <td>48</td>\n",
       "      <td>2020-07-30</td>\n",
       "      <td>99</td>\n",
       "      <td>858</td>\n",
       "    </tr>\n",
       "    <tr>\n",
       "      <th>1498</th>\n",
       "      <td>49</td>\n",
       "      <td>2020-07-30</td>\n",
       "      <td>22</td>\n",
       "      <td>496</td>\n",
       "    </tr>\n",
       "    <tr>\n",
       "      <th>1499</th>\n",
       "      <td>50</td>\n",
       "      <td>2020-07-30</td>\n",
       "      <td>44</td>\n",
       "      <td>932</td>\n",
       "    </tr>\n",
       "  </tbody>\n",
       "</table>\n",
       "<p>1022 rows × 4 columns</p>\n",
       "</div>"
      ],
      "text/plain": [
       "      visitor_id       date  page_views  feature_clicks\n",
       "0              1 2020-07-01          49             814\n",
       "1              2 2020-07-01          83             857\n",
       "2              3 2020-07-01          42             215\n",
       "3              4 2020-07-01          21             309\n",
       "4              5 2020-07-01          87             312\n",
       "...          ...        ...         ...             ...\n",
       "1493          44 2020-07-30          46              82\n",
       "1496          47 2020-07-30          96             729\n",
       "1497          48 2020-07-30          99             858\n",
       "1498          49 2020-07-30          22             496\n",
       "1499          50 2020-07-30          44             932\n",
       "\n",
       "[1022 rows x 4 columns]"
      ]
     },
     "execution_count": 119,
     "metadata": {},
     "output_type": "execute_result"
    }
   ],
   "source": [
    "mask = [(1.0005**-i)>np.random.rand() for i in full_df.index]\n",
    "event_df = full_df.loc[mask]\n",
    "event_df # roughly a third of the rows have been dropped"
   ]
  },
  {
   "cell_type": "markdown",
   "metadata": {},
   "source": [
    "Step 2 has us write our function that will create an active user table with a single row for each date. Pandas has a function we can easily use to do this – date_range."
   ]
  },
  {
   "cell_type": "code",
   "execution_count": 120,
   "metadata": {},
   "outputs": [],
   "source": [
    "def setup_active_user_df(df):\n",
    "    active_user_df = pd.DataFrame({\"date\": pd.date_range(df['date'].min(), df['date'].max())})\n",
    "    return active_user_df"
   ]
  },
  {
   "cell_type": "markdown",
   "metadata": {},
   "source": [
    "Step 3 performs the most work, looping through event_df for each date in our active_users_df. We make sure to use df.loc rather than chained indexing here (e.g. df[col_name][i] ) to avoid potential issues."
   ]
  },
  {
   "cell_type": "code",
   "execution_count": 121,
   "metadata": {},
   "outputs": [],
   "source": [
    "def active_users_in_period(active_user_df, event_df, col_name, period):\n",
    "    active_user_df[col_name] = 0   # Creates the empty column to be filled in\n",
    "    for i in range(len(active_user_df)):\n",
    "        origin_date = active_user_df['date'][i]\n",
    "        offset_date = origin_date - pd.offsets.Day(int(period))\n",
    "        # filter the original dataframe and count unique visitors\n",
    "        count = len(event_df.loc[\n",
    "                                (event_df['date'] <= origin_date) & \n",
    "                                (event_df['date'] > offset_date),\n",
    "                                'visitor_id'].unique())\n",
    "        active_user_df.loc[i, col_name] = count\n",
    "    return df"
   ]
  },
  {
   "cell_type": "code",
   "execution_count": 122,
   "metadata": {},
   "outputs": [],
   "source": [
    "df = setup_active_user_df(event_df)\n",
    "df = active_users_in_period(df, event_df, 'DAU', 1)\n",
    "df = active_users_in_period(df, event_df, 'MAU', 30)\n",
    "\n",
    "# You can also add any period you like e.g. Weekly Active Users (WAU)\n",
    "df = active_users_in_period(df, event_df, 'WAU', 7)\n",
    "\n",
    "# Calculate DAU/MAU to be able to use it in the chart\n",
    "df['DAU/MAU'] = df['DAU']/df['MAU']"
   ]
  },
  {
   "cell_type": "code",
   "execution_count": 123,
   "metadata": {},
   "outputs": [
    {
     "data": {
      "image/png": "[encoded data removed]",
      "text/plain": [
       "<Figure size 432x288 with 1 Axes>"
      ]
     },
     "metadata": {
      "needs_background": "light"
     },
     "output_type": "display_data"
    }
   ],
   "source": [
    "import matplotlib.pyplot as plt\n",
    "\n",
    "# Set up the chart with minimal formatting\n",
    "fig, ax = plt.subplots()\n",
    "ax.plot(df['date'], df['DAU/MAU'])\n",
    "ax.set_title('DAU/MAU over time')\n",
    "fig.autofmt_xdate()\n",
    "ax.set_ylim(0,1)\n",
    "plt.show()"
   ]
  },
  {
   "cell_type": "markdown",
   "metadata": {},
   "source": [
    "You could clean this up further by removing the initial month (as it is finding it’s initial value in this time), changing the y-axis to a % and giving it a label, and perhaps using better date formatting but this is the crux of it.\n",
    "\n",
    "Now this is being measured and shared through your product team and business, now you just need to figure out how to increase user engagement to get that number up!"
   ]
  }
 ],
 "metadata": {
  "kernelspec": {
   "display_name": "Python 3.10.5 ('stats')",
   "language": "python",
   "name": "python3"
  },
  "language_info": {
   "codemirror_mode": {
    "name": "ipython",
    "version": 3
   },
   "file_extension": ".py",
   "mimetype": "text/x-python",
   "name": "python",
   "nbconvert_exporter": "python",
   "pygments_lexer": "ipython3",
   "version": "3.10.5"
  },
  "orig_nbformat": 4,
  "vscode": {
   "interpreter": {
    "hash": "cb7b318fe2a7b70c2432157685ec5637f697127dd0e0a5f416e3909e477f75c0"
   }
  }
 },
 "nbformat": 4,
 "nbformat_minor": 2
}
