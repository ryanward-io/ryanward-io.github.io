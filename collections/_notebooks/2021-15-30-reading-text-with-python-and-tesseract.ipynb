{
 "cells": [
  {
   "cell_type": "markdown",
   "metadata": {},
   "source": [
    "Reading text from images is a classic task that machine learning can help with. One way to solve this is obtaining thousands (or millions) of images, labeling them, and then training a classification model (e.g. Random Forest).\n",
    "\n",
    "However, not everyone has the time or resources to go and label a bunch of images. In these circumstances, using a pre-trained model can be far more effective and efficient.\n",
    "\n",
    "One such model is an open source model called [Tesseract](https://github.com/tesseract-ocr/tesseract). This article will run through how to install it and start using it with Python (with Windows).\n",
    "\n",
    "### Installing\n",
    "\n",
    "1. Start by downloading the [Tesseract compiled engine](https://tesseract-ocr.github.io/tessdoc/Home.html). I am using the v5.0.0 binary in this article.\n",
    "2. Once downloaded move the downloaded file to an easy to access folder. I put mine in `C:/Program Files/Tesseract-OCR/` so the executable is in `C:/Program Files/Tesseract-OCR/tesseract.exe`.\n",
    "3. Now you need to install the relevant python libraries. There are just two (pandas is an optional third to put the parsed text in a structured place)."
   ]
  },
  {
   "cell_type": "markdown",
   "metadata": {},
   "source": [
    "!pip install opencv-python\n",
    "!pip install pytesseract\n",
    "!pip install pandas"
   ]
  },
  {
   "cell_type": "markdown",
   "metadata": {},
   "source": [
    "That’s it! Now you are ready to read some text.\n",
    "\n",
    "### Analysing images\n",
    "\n",
    "The first part of the code is importing libraries and pointing pytesseract to where the executable lives."
   ]
  },
  {
   "cell_type": "code",
   "execution_count": null,
   "metadata": {},
   "outputs": [],
   "source": [
    "import cv2\n",
    "import pytesseract as pt\n",
    "\n",
    "pt.pytesseract.tesseract_cmd = r'C:\\\\Program Files\\\\Tesseract-OCR\\\\tesseract.exe'"
   ]
  },
  {
   "cell_type": "markdown",
   "metadata": {},
   "source": [
    "The helper function we’ll use to read an image before printing the result is very simple. It simple uses cv2 to read the image and then uses the image_to_string method in pytesseract to try and parse the image."
   ]
  },
  {
   "cell_type": "code",
   "execution_count": null,
   "metadata": {},
   "outputs": [],
   "source": [
    "def read_img(img):\n",
    "    img = cv2.imread(img)\n",
    "    return pt.image_to_string(img)"
   ]
  },
  {
   "cell_type": "markdown",
   "metadata": {},
   "source": [
    "Tesseract works best with simpler fonts (i.e. sans-serif fonts), good resolution and minimal extraneous noise. Let’s explore a few images and their results."
   ]
  },
  {
   "cell_type": "markdown",
   "metadata": {},
   "source": [
    "#### Image one\n",
    "![Picture of white rectangle with text - T Faix, https://unsplash.com/photos/eBkEJ9cH5b4](img/image1.webp)  \n",
    "\n",
    "![OCR Output of first image showing text being read 100% accurately](img/image1result.webp)\n",
    "\n",
    "This worked perfect! How about another example with a bit more going on.\n",
    "\n",
    "#### Image two\n",
    "![Picture of sign with text of different fonts and sizes - M Zaric, https://unsplash.com/photos/trJjdYTRuNw](img/image2.webp)  \n",
    "\n",
    "![OCR Output of second image showing text being read with mixed results](img/image2result.webp)\n",
    "\n",
    "Not as good as a result but it still picked up some things. It was happy with the sans-serif font giving the exact day it was coded and it saw the word CONSUME but not LESS, and also not the fancy font of CREATE MORE.\n",
    "\n",
    "#### Image three\n",
    "![Picture of old sign with stylised font starting with MEN WANTED - J Theodore, https://unsplash.com/photos/5UeasJVXLjA](img/image3.webp)  \n",
    "\n",
    "![OCR Output of third image showing text being read with poor results](img/image3result.webp)\n",
    "\n",
    "Fairly mixed here. Considering the stylised font it’s done a decent job. It gets most of the first two lines. Completely misses the third line (perhaps because of the faint line through the line) and gets the fourth and fifth lines. The address in red at the bottom has a fair few errors though.\n",
    "\n",
    "#### Image four\n",
    "This is an example where tesseract does very well. Considering it is a cropped image of a page in a book, pretty much everywhere where it gets a full character or word it transcribes accurately. This reflects the image having words in a structured format, all similar size and with good contrast between the page and the text.\n",
    "\n",
    "### Next steps\n",
    "There are some things you can do to improve the output. Preprocessing images by converting to black and white, cropping out any unnecessary parts of the image and improving resolution (if possible) are all helpful.\n",
    "\n",
    "Check out [my github repo](https://github.com/ryanward-io/ocr) for the code run in this article, as well as more techniques applied on a different dataset."
   ]
  }
 ],
 "metadata": {
  "kernelspec": {
   "display_name": "Python 3.8.10 64-bit",
   "language": "python",
   "name": "python3"
  },
  "language_info": {
   "name": "python",
   "version": "3.8.10"
  },
  "orig_nbformat": 4,
  "vscode": {
   "interpreter": {
    "hash": "916dbcbb3f70747c44a77c7bcd40155683ae19c65e1c03b4aa3499c5328201f1"
   }
  }
 },
 "nbformat": 4,
 "nbformat_minor": 2
}
