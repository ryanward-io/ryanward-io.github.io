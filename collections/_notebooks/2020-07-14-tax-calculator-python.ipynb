{
 "cells": [
  {
   "cell_type": "markdown",
   "metadata": {},
   "source": [
    "### Why do I need to calculate tax?\n",
    "Calculating the tax or duty on items is a common requirement. Sometimes it is as simple as multiplying (almost) everything by 10% for a flat Value Added Tax like the Goods and Services Tax (GST). However, sometimes it is more complex and involves a sliding scale of tax based on the value of the good.\n",
    "\n",
    "Property values in Australia is an example where this sliding scale applies.\n",
    "\n",
    "If you are a property lawyer, or work in property finance you might find yourself needing to calculate stamp duty on property values. Manually doing this is painful if you have lots of properties to work through, but this is where automation helps.\n",
    "\n",
    "Tackling this with Python\n",
    "\n",
    "Looking at the Victorian Stamp Duty rates here we can extract the following parameters to calculate stamp duty."
   ]
  },
  {
   "cell_type": "markdown",
   "metadata": {},
   "source": [
    "| Dutiable Value Range | Rate |\n",
    "| -------------------- | --- |\n",
    "| $0 – $25,000      | 1.4 per cent of the dutiable value of the property |\n",
    "| $25,001 – $130,000   | $350 plus 2.4 per cent of the dutiable value in excess of $25,000 |\n",
    "| $130,001 – $440,000   | $2,870 plus 5 per cent of the dutiable value in excess of $130,000 |\n",
    "| $440,001 – $550,000   | $18,370 plus 6 per cent of the dutiable value in excess of $440,000 |\n",
    "| $550,001 – $960,000   | $28,070 plus 6 per cent of the dutiable value in excess of $550,000 |\n",
    "| More than $960,000   | 5.5 per cent of the dutiable value |"
   ]
  },
  {
   "cell_type": "markdown",
   "metadata": {},
   "source": [
    "By observing the pattern, we can see that it generally follows the rule of the property value minus the lower threshold, multiplied by a percentage, and finally adding a flat amount.\n",
    "\n",
    "For example if you have a property of $500,000, you would see that the $440,001 to $550,000 range applies and apply:\n",
    "\n",
    "`($500,000 - $440,000) * 0.06 + $18,370 = $21,970`\n",
    "\n",
    "The only parameter this doesn’t apply for is more than $960,000. But you can cheat a little if you realise that because $960,000 * 5.5% is $52,800, these are equivalent statements.\n",
    "\n",
    "`5.5 per cent of the dutiable value == $52,800 plus 5.5 per cent of the dutiable value in excess of $960,000`\n",
    "\n",
    "Knowing this we get to our code. We start with just a dummy dataset. I’ve only included property values, but you may have their addresses, contract signing dates, purchasers and other information there too.\n",
    "\n",
    "We also create a table that contains all parameter information above. Each sublist has the format:\n",
    "\n",
    "`[lower bound, % duty in excess of lower bound, flat amount to add]`\n",
    "\n",
    "The final list is 10,000,000,000 or 10 billion. This is added to catch all properties above $960,000 (as I’m assuming no property will be sold for over $10B although there is probably a cleaner way to catch these."
   ]
  },
  {
   "cell_type": "code",
   "execution_count": 3,
   "metadata": {},
   "outputs": [],
   "source": [
    "import pandas as pd\n",
    "\n",
    "df = pd.DataFrame({'property_values': [100000, 240000, 150000, 600000, 650000]})\n",
    "\n",
    "vic_duty_values = [\n",
    "    [0, 0.014, 0],\n",
    "    [25_000, 0.024, 350],\n",
    "    [130_000, 0.050, 2870],\n",
    "    [440_000, 0.060, 18_370],\n",
    "    [550_000, 0.060, 28_070],\n",
    "    [960_000, 0.055, 52_800],  # 52_800 is 960_000 * 0.055\n",
    "    [1e12   , 0.0, 0]\n",
    "]"
   ]
  },
  {
   "cell_type": "markdown",
   "metadata": {},
   "source": [
    "While I could have created a monstrous if else condition, I felt there was too much capacity for human error and it gets unwieldy if you want to add more. With this method, you could just change the duty_values list for any other State (e.g. NSW) and it will still work.\n",
    "\n",
    "What is next happening in this function, is we are taking each value and checking where it fits in the duty list. Once it finds the range that applies, it can pull the relevant multiplier and amount to add, to calculate the stamp duty."
   ]
  },
  {
   "cell_type": "code",
   "execution_count": 5,
   "metadata": {},
   "outputs": [
    {
     "name": "stdout",
     "output_type": "stream",
     "text": [
      "   property_values  stamp_duty\n",
      "0           100000      2150.0\n",
      "1           240000      8370.0\n",
      "2           150000      3870.0\n",
      "3           600000     31070.0\n",
      "4           650000     34070.0\n"
     ]
    }
   ],
   "source": [
    "def duty_calculator(row):\n",
    "    for i, v in enumerate(vic_duty_values):\n",
    "        if row['property_values'] < v[0]:\n",
    "            prev_list = vic_duty_values[i - 1]\n",
    "            x_lower = prev_list[0]\n",
    "            multiplier = prev_list[1]\n",
    "            add_amount = prev_list[2]\n",
    "            return (row['property_values'] - x_lower) * multiplier + add_amount\n",
    "\n",
    "\n",
    "df['stamp_duty'] = df.apply(duty_calculator, axis=1)\n",
    "print(df)"
   ]
  },
  {
   "cell_type": "markdown",
   "metadata": {},
   "source": [
    "I hope this approach helps tackle any scalable percentage of value issues you face, and I’m sure you’ll agree it is more efficient and easier to read than a large if else statement."
   ]
  }
 ],
 "metadata": {
  "kernelspec": {
   "display_name": "Python 3.10.5 ('stats')",
   "language": "python",
   "name": "python3"
  },
  "language_info": {
   "codemirror_mode": {
    "name": "ipython",
    "version": 3
   },
   "file_extension": ".py",
   "mimetype": "text/x-python",
   "name": "python",
   "nbconvert_exporter": "python",
   "pygments_lexer": "ipython3",
   "version": "3.10.5"
  },
  "orig_nbformat": 4,
  "vscode": {
   "interpreter": {
    "hash": "cb7b318fe2a7b70c2432157685ec5637f697127dd0e0a5f416e3909e477f75c0"
   }
  }
 },
 "nbformat": 4,
 "nbformat_minor": 2
}
