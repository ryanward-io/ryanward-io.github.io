{
 "cells": [
  {
   "cell_type": "markdown",
   "metadata": {},
   "source": [
    "One of my favourite charts is the 100% stacked bar chart. Think of a a Pie chart, but one that better shows the split of data and that you can easily show over time or with multiple categories without an issue.\n",
    "\n",
    "It’s best used when you don’t need to see the total movement, but instead the change in distribution such as between competing companies in a market, or relative sales revenues brought in by different people.\n",
    "\n",
    "I’d been doing these in Excel for a while but hadn’t tackled it in Python. There was a few resources I found but ended up writing most of this myself. You can see the full code and datasets in my [GitHub repo](https://github.com/ryanward-io/charting).\n",
    "\n",
    "Let’s use the [World Bank data set of GDP by country since 1960](https://data.worldbank.org/indicator/NY.GDP.MKTP.CD). What we want to see is how the distribution of global GDP by continent has changed over time. I also use a data set I found ~~published online~~ _and it's a dead link now_ that acts as a lookup table of country to continent. These are both accessed from my GitHub as I don’t know if they disappear or change over time.\n",
    "\n",
    "As with all things data, we start with transforming the data into a useful form. Below is the code that imports all libraries and datasets, cleans the GDP DataFrame, and merges the lookup data into the GDP DataFrame."
   ]
  },
  {
   "cell_type": "code",
   "execution_count": 6,
   "metadata": {},
   "outputs": [
    {
     "data": {
      "text/html": [
       "<div>\n",
       "<style scoped>\n",
       "    .dataframe tbody tr th:only-of-type {\n",
       "        vertical-align: middle;\n",
       "    }\n",
       "\n",
       "    .dataframe tbody tr th {\n",
       "        vertical-align: top;\n",
       "    }\n",
       "\n",
       "    .dataframe thead th {\n",
       "        text-align: right;\n",
       "    }\n",
       "</style>\n",
       "<table border=\"1\" class=\"dataframe\">\n",
       "  <thead>\n",
       "    <tr style=\"text-align: right;\">\n",
       "      <th>Continent_Name</th>\n",
       "      <th>Africa</th>\n",
       "      <th>Asia</th>\n",
       "      <th>Europe</th>\n",
       "      <th>North America</th>\n",
       "      <th>Oceania</th>\n",
       "      <th>South America</th>\n",
       "    </tr>\n",
       "  </thead>\n",
       "  <tbody>\n",
       "    <tr>\n",
       "      <th>2015</th>\n",
       "      <td>2.331355e+12</td>\n",
       "      <td>2.743490e+13</td>\n",
       "      <td>2.029734e+13</td>\n",
       "      <td>2.152319e+13</td>\n",
       "      <td>1.567079e+12</td>\n",
       "      <td>3.353879e+12</td>\n",
       "    </tr>\n",
       "    <tr>\n",
       "      <th>2016</th>\n",
       "      <td>2.186643e+12</td>\n",
       "      <td>2.840264e+13</td>\n",
       "      <td>2.022827e+13</td>\n",
       "      <td>2.191001e+13</td>\n",
       "      <td>1.434843e+12</td>\n",
       "      <td>3.307646e+12</td>\n",
       "    </tr>\n",
       "    <tr>\n",
       "      <th>2017</th>\n",
       "      <td>2.212164e+12</td>\n",
       "      <td>3.068479e+13</td>\n",
       "      <td>2.145087e+13</td>\n",
       "      <td>2.291493e+13</td>\n",
       "      <td>1.576361e+12</td>\n",
       "      <td>3.752571e+12</td>\n",
       "    </tr>\n",
       "    <tr>\n",
       "      <th>2018</th>\n",
       "      <td>2.330966e+12</td>\n",
       "      <td>3.260469e+13</td>\n",
       "      <td>2.296101e+13</td>\n",
       "      <td>2.415106e+13</td>\n",
       "      <td>1.683492e+12</td>\n",
       "      <td>3.514392e+12</td>\n",
       "    </tr>\n",
       "    <tr>\n",
       "      <th>2019</th>\n",
       "      <td>2.420123e+12</td>\n",
       "      <td>3.340433e+13</td>\n",
       "      <td>2.258863e+13</td>\n",
       "      <td>2.496280e+13</td>\n",
       "      <td>1.633667e+12</td>\n",
       "      <td>3.373180e+12</td>\n",
       "    </tr>\n",
       "  </tbody>\n",
       "</table>\n",
       "</div>"
      ],
      "text/plain": [
       "Continent_Name        Africa          Asia        Europe  North America  \\\n",
       "2015            2.331355e+12  2.743490e+13  2.029734e+13   2.152319e+13   \n",
       "2016            2.186643e+12  2.840264e+13  2.022827e+13   2.191001e+13   \n",
       "2017            2.212164e+12  3.068479e+13  2.145087e+13   2.291493e+13   \n",
       "2018            2.330966e+12  3.260469e+13  2.296101e+13   2.415106e+13   \n",
       "2019            2.420123e+12  3.340433e+13  2.258863e+13   2.496280e+13   \n",
       "\n",
       "Continent_Name       Oceania  South America  \n",
       "2015            1.567079e+12   3.353879e+12  \n",
       "2016            1.434843e+12   3.307646e+12  \n",
       "2017            1.576361e+12   3.752571e+12  \n",
       "2018            1.683492e+12   3.514392e+12  \n",
       "2019            1.633667e+12   3.373180e+12  "
      ]
     },
     "execution_count": 6,
     "metadata": {},
     "output_type": "execute_result"
    }
   ],
   "source": [
    "import pandas as pd\n",
    "import matplotlib.pyplot as plt\n",
    "\n",
    "gdp_world_bank_csv = \"https://raw.githubusercontent.com/ryanward-io/charting/master/data/world_bank_GDP.csv\"\n",
    "lookup_csv = \"https://raw.githubusercontent.com/ryanward-io/charting/master/data/continent_to_country_lookup.csv\"\n",
    "\n",
    "gdp_df = pd.read_csv(gdp_world_bank_csv)\n",
    "lookup_df = pd.read_csv(lookup_csv)\n",
    "\n",
    "# Removing unnecessary columns and renaming columns for consistency\n",
    "gdp_df = gdp_df.drop(columns=['Country Code', 'Indicator Name', 'Indicator Code'])\\\n",
    "               .rename(columns={\"Country Name\": \"Country_Name\"})\n",
    "\n",
    "# Merging the lookup table into the GDP dataset.\n",
    "gdp_df = pd.merge(gdp_df, lookup_df, on=\"Country_Name\")\n",
    "\n",
    "#We are just looking at continents, otherwise it would be too busy.\n",
    "gdp_df.drop(['Country_Name'], axis=1, inplace=True)\n",
    "\n",
    "gdp_df = gdp_df.groupby('Continent_Name').sum().T\n",
    "gdp_df.tail()"
   ]
  },
  {
   "cell_type": "markdown",
   "metadata": {},
   "source": [
    "Next we transform the absolute values into a proportional value out of 100%.\n",
    "\n",
    "This is done by dividing each item in each DataFrame row by the sum of each row. The end result is each row now adds to 1."
   ]
  },
  {
   "cell_type": "code",
   "execution_count": 7,
   "metadata": {},
   "outputs": [
    {
     "data": {
      "text/html": [
       "<div>\n",
       "<style scoped>\n",
       "    .dataframe tbody tr th:only-of-type {\n",
       "        vertical-align: middle;\n",
       "    }\n",
       "\n",
       "    .dataframe tbody tr th {\n",
       "        vertical-align: top;\n",
       "    }\n",
       "\n",
       "    .dataframe thead th {\n",
       "        text-align: right;\n",
       "    }\n",
       "</style>\n",
       "<table border=\"1\" class=\"dataframe\">\n",
       "  <thead>\n",
       "    <tr style=\"text-align: right;\">\n",
       "      <th>Continent_Name</th>\n",
       "      <th>Africa</th>\n",
       "      <th>Asia</th>\n",
       "      <th>Europe</th>\n",
       "      <th>North America</th>\n",
       "      <th>Oceania</th>\n",
       "      <th>South America</th>\n",
       "    </tr>\n",
       "  </thead>\n",
       "  <tbody>\n",
       "    <tr>\n",
       "      <th>2015</th>\n",
       "      <td>0.030472</td>\n",
       "      <td>0.358590</td>\n",
       "      <td>0.265298</td>\n",
       "      <td>0.281320</td>\n",
       "      <td>0.020483</td>\n",
       "      <td>0.043837</td>\n",
       "    </tr>\n",
       "    <tr>\n",
       "      <th>2016</th>\n",
       "      <td>0.028226</td>\n",
       "      <td>0.366627</td>\n",
       "      <td>0.261111</td>\n",
       "      <td>0.282819</td>\n",
       "      <td>0.018521</td>\n",
       "      <td>0.042696</td>\n",
       "    </tr>\n",
       "    <tr>\n",
       "      <th>2017</th>\n",
       "      <td>0.026784</td>\n",
       "      <td>0.371524</td>\n",
       "      <td>0.259722</td>\n",
       "      <td>0.277448</td>\n",
       "      <td>0.019086</td>\n",
       "      <td>0.045435</td>\n",
       "    </tr>\n",
       "    <tr>\n",
       "      <th>2018</th>\n",
       "      <td>0.026717</td>\n",
       "      <td>0.373712</td>\n",
       "      <td>0.263177</td>\n",
       "      <td>0.276817</td>\n",
       "      <td>0.019296</td>\n",
       "      <td>0.040282</td>\n",
       "    </tr>\n",
       "    <tr>\n",
       "      <th>2019</th>\n",
       "      <td>0.027382</td>\n",
       "      <td>0.377951</td>\n",
       "      <td>0.255577</td>\n",
       "      <td>0.282440</td>\n",
       "      <td>0.018484</td>\n",
       "      <td>0.038166</td>\n",
       "    </tr>\n",
       "  </tbody>\n",
       "</table>\n",
       "</div>"
      ],
      "text/plain": [
       "Continent_Name    Africa      Asia    Europe  North America   Oceania  \\\n",
       "2015            0.030472  0.358590  0.265298       0.281320  0.020483   \n",
       "2016            0.028226  0.366627  0.261111       0.282819  0.018521   \n",
       "2017            0.026784  0.371524  0.259722       0.277448  0.019086   \n",
       "2018            0.026717  0.373712  0.263177       0.276817  0.019296   \n",
       "2019            0.027382  0.377951  0.255577       0.282440  0.018484   \n",
       "\n",
       "Continent_Name  South America  \n",
       "2015                 0.043837  \n",
       "2016                 0.042696  \n",
       "2017                 0.045435  \n",
       "2018                 0.040282  \n",
       "2019                 0.038166  "
      ]
     },
     "execution_count": 7,
     "metadata": {},
     "output_type": "execute_result"
    }
   ],
   "source": [
    "gdp_100_df = gdp_df.div(gdp_df.sum(axis=1), axis=0)\n",
    "gdp_100_df.tail()"
   ]
  },
  {
   "cell_type": "markdown",
   "metadata": {},
   "source": [
    "We are now ready to make the charts.\n",
    "\n",
    "For a 100% stacked bar chart the special element to add to a bar chart is the ‘bottom’ parameter when plotting the data. This defines the bottom of each data point – we’ll be specifying this so the bottom of each continent bar is the top of the prior continent. By the end, this should have added to 1 so that each total bar is the same height."
   ]
  },
  {
   "cell_type": "code",
   "execution_count": 9,
   "metadata": {},
   "outputs": [],
   "source": [
    "bottom_list = []\n",
    "\n",
    "# Loops through each continent column. \n",
    "# Each column will take the sum of all columns before it as its base.\n",
    "\n",
    "for i in gdp_100_df.columns:\n",
    "    b = list(gdp_100_df.loc[:, gdp_df.columns[0]: i].sum(axis=1))\n",
    "    bottom_list.append(b)"
   ]
  },
  {
   "cell_type": "markdown",
   "metadata": {},
   "source": [
    "Now we have our ‘bottoms’, we can plot the chart."
   ]
  },
  {
   "cell_type": "code",
   "execution_count": 28,
   "metadata": {},
   "outputs": [
    {
     "data": {
      "image/png": "[encoded data removed]",
      "text/plain": [
       "<Figure size 432x288 with 1 Axes>"
      ]
     },
     "metadata": {
      "needs_background": "light"
     },
     "output_type": "display_data"
    }
   ],
   "source": [
    "fig, ax = plt.subplots()\n",
    "\n",
    "x_ax = gdp_100_df.index\n",
    "\n",
    "def plot_stacked_bar_chart():\n",
    "    for i, v in enumerate(gdp_100_df.columns):\n",
    "        if i == 0:\n",
    "            # First column is at the bottom of the chart\n",
    "            # so bottom is 0 and doesn't need to be specified.\n",
    "            plt.bar(x_ax, gdp_100_df[v])\n",
    "        else:\n",
    "            plt.bar(x_ax, gdp_100_df[v], bottom=bottom_list[i - 1])\n",
    "\n",
    "plot_stacked_bar_chart()\n",
    "plt.show()"
   ]
  },
  {
   "cell_type": "markdown",
   "metadata": {},
   "source": [
    "The bars have worked, with each stack determining their bottom from the top of the prior stack. However, the axes is a hot mess and there are a few formatting things we can easily clean up. We do that quickly below."
   ]
  },
  {
   "cell_type": "code",
   "execution_count": 41,
   "metadata": {},
   "outputs": [
    {
     "data": {
      "text/plain": [
       "array([0. , 0.2, 0.4, 0.6, 0.8, 1. ])"
      ]
     },
     "execution_count": 41,
     "metadata": {},
     "output_type": "execute_result"
    }
   ],
   "source": []
  },
  {
   "cell_type": "code",
   "execution_count": 48,
   "metadata": {},
   "outputs": [
    {
     "data": {
      "image/png": "[encoded data removed]",
      "text/plain": [
       "<Figure size 432x288 with 1 Axes>"
      ]
     },
     "metadata": {
      "needs_background": "light"
     },
     "output_type": "display_data"
    }
   ],
   "source": [
    "fig, ax = plt.subplots()\n",
    "\n",
    "# y-axis formatting\n",
    "plot_stacked_bar_chart()\n",
    "y_vals = ax.get_yticks()[:6]\n",
    "ax.set_yticks(y_vals)\n",
    "ax.set_yticklabels([f'{y:.0%}' for y in y_vals])\n",
    "\n",
    "# # x-axis formatting\n",
    "n = 10  # Keeps every nth label\n",
    "[l.set_visible(False) for (i, l) in enumerate(ax.xaxis.get_ticklabels()) if i % n != 5]\n",
    "\n",
    "# Other formatting\n",
    "plt.legend(labels=gdp_100_df.columns)\n",
    "plt.title('Distribution of GDP by continent over time')\n",
    "\n",
    "plt.show()"
   ]
  },
  {
   "cell_type": "markdown",
   "metadata": {},
   "source": [
    "Much better!\n",
    "\n",
    "Despite spikes in GDP proportion around 1985 and 2000 (both times of high growth, just before major crashes of [Black Monday [1987]](https://en.wikipedia.org/wiki/Black_Monday_(1987)) and the [Dot-Com Bubble [2000]](https://en.wikipedia.org/wiki/Dot-com_bubble)), the trend shows North America losing about 25% share of global GDP since 1960, almost entirely to an increase in Asia.\n",
    "\n",
    "Hope this helps present information from a different angle – you’d be surprised where this can come in useful."
   ]
  }
 ],
 "metadata": {
  "kernelspec": {
   "display_name": "Python 3.10.5 ('stats')",
   "language": "python",
   "name": "python3"
  },
  "language_info": {
   "codemirror_mode": {
    "name": "ipython",
    "version": 3
   },
   "file_extension": ".py",
   "mimetype": "text/x-python",
   "name": "python",
   "nbconvert_exporter": "python",
   "pygments_lexer": "ipython3",
   "version": "3.10.5"
  },
  "orig_nbformat": 4,
  "vscode": {
   "interpreter": {
    "hash": "cb7b318fe2a7b70c2432157685ec5637f697127dd0e0a5f416e3909e477f75c0"
   }
  }
 },
 "nbformat": 4,
 "nbformat_minor": 2
}
