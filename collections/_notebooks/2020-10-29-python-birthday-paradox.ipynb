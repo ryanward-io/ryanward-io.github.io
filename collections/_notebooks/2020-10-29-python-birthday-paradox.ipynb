{
 "cells": [
  {
   "cell_type": "markdown",
   "metadata": {},
   "source": [
    "I wanted to share something here, not because it’s never been done before, but because it shows the advantage of trying new approaches.\n",
    "\n",
    "The birthday paradox is counter-intuitive and strange, and interesting – a great [walkthrough of the problem is here](https://betterexplained.com/articles/understanding-the-birthday-paradox/)\n",
    "\n",
    "When I first went to write some code to simulate this, I went straight to what I was comfortable with – `pandas`. However, I was finding it was extremely slow for this particular problem – taking 5 minutes or more. I decided to try something I tend not to use directly instead – `numpy`.\n",
    "\n",
    "The key was not overcomplicating it. Rather than creating some enormous dataframe with thousands of dates, dynamically creating a new small sample in numpy was much faster and efficient. See the improved code below that runs pretty fast. There is probably more optimisation possible but I was happy with this. You can also find the code, and my original pandas code [here at my github](https://github.com/ryanward-io/birthday_problem)."
   ]
  },
  {
   "cell_type": "code",
   "execution_count": 2,
   "metadata": {},
   "outputs": [
    {
     "data": {
      "image/png": "[encoded data removed]",
      "text/plain": [
       "<Figure size 432x288 with 1 Axes>"
      ]
     },
     "metadata": {
      "needs_background": "light"
     },
     "output_type": "display_data"
    }
   ],
   "source": [
    "import numpy as np\n",
    "import matplotlib.pyplot as plt\n",
    "import bisect\n",
    "\n",
    "MAX_BIRTHDAY_TESTS = 40\n",
    "\n",
    "\n",
    "def test_birthday_percentage(number, samples):\n",
    "    counter = 0\n",
    "    for i in range(samples):\n",
    "        bdays = np.random.randint(1, 365, number)\n",
    "        if len(np.unique(bdays)) != len(bdays):\n",
    "            counter += 1\n",
    "    return counter / samples\n",
    "\n",
    "\n",
    "def create_success_dict(tests, samples=10000):\n",
    "    success_dict = {}\n",
    "    for i in range(tests):\n",
    "        pc = test_birthday_percentage(i, samples)\n",
    "        success_dict[i] = pc\n",
    "    return success_dict\n",
    "\n",
    "\n",
    "def show_probability_chart(success_dict):\n",
    "    half_pos = bisect.bisect_right(list(s.values()), 0.5)\n",
    "    barlist = plt.bar(list(s.keys()), list(s.values()))\n",
    "    barlist[half_pos - 1].set_color('r')\n",
    "    plt.text(half_pos - 1, s[half_pos], s[half_pos], ha=\"right\")\n",
    "    plt.title(\"Birthday problem - Pr(shared birthdays) by number of people\")\n",
    "    plt.xlabel(\"Number of people together\")\n",
    "    plt.ylabel(\"Probability of birthday matching\")\n",
    "    plt.show()\n",
    "\n",
    "\n",
    "s = create_success_dict(MAX_BIRTHDAY_TESTS)\n",
    "show_probability_chart(s)"
   ]
  }
 ],
 "metadata": {
  "kernelspec": {
   "display_name": "Python 3.10.5 ('stats')",
   "language": "python",
   "name": "python3"
  },
  "language_info": {
   "codemirror_mode": {
    "name": "ipython",
    "version": 3
   },
   "file_extension": ".py",
   "mimetype": "text/x-python",
   "name": "python",
   "nbconvert_exporter": "python",
   "pygments_lexer": "ipython3",
   "version": "3.10.5"
  },
  "orig_nbformat": 4,
  "vscode": {
   "interpreter": {
    "hash": "cb7b318fe2a7b70c2432157685ec5637f697127dd0e0a5f416e3909e477f75c0"
   }
  }
 },
 "nbformat": 4,
 "nbformat_minor": 2
}
